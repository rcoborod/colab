{
  "nbformat": 4,
  "nbformat_minor": 0,
  "metadata": {
    "colab": {
      "name": "financeTest.ipynb",
      "provenance": [],
      "collapsed_sections": []
    },
    "kernelspec": {
      "name": "python3",
      "display_name": "Python 3"
    }
  },
  "cells": [
    {
      "cell_type": "code",
      "metadata": {
        "id": "hVWYmp2xG5PL"
      },
      "source": [
        "import os\n",
        "import pathlib\n",
        "import datetime\n",
        "import IPython\n",
        "import IPython.display\n",
        "import matplotlib as mpl\n",
        "import matplotlib.pyplot as plt\n",
        "import numpy as np\n",
        "import pandas as pd\n",
        "import seaborn as sns\n",
        "import tensorflow as tf\n",
        "\n",
        "mpl.rcParams['figure.figsize'] = (8, 6)\n",
        "mpl.rcParams['axes.grid'] = False\n",
        "\n",
        "np.set_printoptions(precision=4)"
      ],
      "execution_count": 1,
      "outputs": []
    },
    {
      "cell_type": "code",
      "metadata": {
        "colab": {
          "base_uri": "https://localhost:8080/"
        },
        "id": "kAHzqeuaG8Bz",
        "outputId": "99542889-e6e7-4379-d882-08f149da4c47"
      },
      "source": [
        "!pip install yfinance\n",
        "import yfinance as yf"
      ],
      "execution_count": 3,
      "outputs": [
        {
          "output_type": "stream",
          "text": [
            "Collecting yfinance\n",
            "  Downloading https://files.pythonhosted.org/packages/7a/e8/b9d7104d3a4bf39924799067592d9e59119fcfc900a425a12e80a3123ec8/yfinance-0.1.55.tar.gz\n",
            "Requirement already satisfied: pandas>=0.24 in /usr/local/lib/python3.6/dist-packages (from yfinance) (1.1.4)\n",
            "Requirement already satisfied: numpy>=1.15 in /usr/local/lib/python3.6/dist-packages (from yfinance) (1.18.5)\n",
            "Requirement already satisfied: requests>=2.20 in /usr/local/lib/python3.6/dist-packages (from yfinance) (2.23.0)\n",
            "Requirement already satisfied: multitasking>=0.0.7 in /usr/local/lib/python3.6/dist-packages (from yfinance) (0.0.9)\n",
            "Collecting lxml>=4.5.1\n",
            "\u001b[?25l  Downloading https://files.pythonhosted.org/packages/64/28/0b761b64ecbd63d272ed0e7a6ae6e4402fc37886b59181bfdf274424d693/lxml-4.6.1-cp36-cp36m-manylinux1_x86_64.whl (5.5MB)\n",
            "\u001b[K     |████████████████████████████████| 5.5MB 6.4MB/s \n",
            "\u001b[?25hRequirement already satisfied: pytz>=2017.2 in /usr/local/lib/python3.6/dist-packages (from pandas>=0.24->yfinance) (2018.9)\n",
            "Requirement already satisfied: python-dateutil>=2.7.3 in /usr/local/lib/python3.6/dist-packages (from pandas>=0.24->yfinance) (2.8.1)\n",
            "Requirement already satisfied: urllib3!=1.25.0,!=1.25.1,<1.26,>=1.21.1 in /usr/local/lib/python3.6/dist-packages (from requests>=2.20->yfinance) (1.24.3)\n",
            "Requirement already satisfied: certifi>=2017.4.17 in /usr/local/lib/python3.6/dist-packages (from requests>=2.20->yfinance) (2020.11.8)\n",
            "Requirement already satisfied: idna<3,>=2.5 in /usr/local/lib/python3.6/dist-packages (from requests>=2.20->yfinance) (2.10)\n",
            "Requirement already satisfied: chardet<4,>=3.0.2 in /usr/local/lib/python3.6/dist-packages (from requests>=2.20->yfinance) (3.0.4)\n",
            "Requirement already satisfied: six>=1.5 in /usr/local/lib/python3.6/dist-packages (from python-dateutil>=2.7.3->pandas>=0.24->yfinance) (1.15.0)\n",
            "Building wheels for collected packages: yfinance\n",
            "  Building wheel for yfinance (setup.py) ... \u001b[?25l\u001b[?25hdone\n",
            "  Created wheel for yfinance: filename=yfinance-0.1.55-py2.py3-none-any.whl size=22618 sha256=ec2860786f63ccc9116e8b1c25cc4147cb8c543c858523cae66fb7a244f12c02\n",
            "  Stored in directory: /root/.cache/pip/wheels/04/98/cc/2702a4242d60bdc14f48b4557c427ded1fe92aedf257d4565c\n",
            "Successfully built yfinance\n",
            "Installing collected packages: lxml, yfinance\n",
            "  Found existing installation: lxml 4.2.6\n",
            "    Uninstalling lxml-4.2.6:\n",
            "      Successfully uninstalled lxml-4.2.6\n",
            "Successfully installed lxml-4.6.1 yfinance-0.1.55\n"
          ],
          "name": "stdout"
        }
      ]
    },
    {
      "cell_type": "code",
      "metadata": {
        "colab": {
          "base_uri": "https://localhost:8080/"
        },
        "id": "Xm9T5-wzLXIv",
        "outputId": "160ea94e-b519-4984-9c97-0e7a41f8d835"
      },
      "source": [
        "data = yf.download(\"^GSPC\",interval='1d',auto_adjust=True)"
      ],
      "execution_count": 4,
      "outputs": [
        {
          "output_type": "stream",
          "text": [
            "\r[*********************100%***********************]  1 of 1 completed\n"
          ],
          "name": "stdout"
        }
      ]
    },
    {
      "cell_type": "code",
      "metadata": {
        "id": "FyQn-0e7OnVt"
      },
      "source": [
        "\n",
        "df= data.drop(columns=['Volume']).apply(np.log2)"
      ],
      "execution_count": 5,
      "outputs": []
    },
    {
      "cell_type": "code",
      "metadata": {
        "colab": {
          "base_uri": "https://localhost:8080/"
        },
        "id": "pPYt46uSSE1s",
        "outputId": "875dd953-b86d-42e9-a1c3-9754616b6899"
      },
      "source": [
        "date_time=pd.to_datetime(df.index,infer_datetime_format=True)\n",
        "date_time"
      ],
      "execution_count": 6,
      "outputs": [
        {
          "output_type": "execute_result",
          "data": {
            "text/plain": [
              "DatetimeIndex(['1927-12-30', '1928-01-03', '1928-01-04', '1928-01-05',\n",
              "               '1928-01-06', '1928-01-09', '1928-01-10', '1928-01-11',\n",
              "               '1928-01-12', '1928-01-13',\n",
              "               ...\n",
              "               '2020-11-11', '2020-11-12', '2020-11-13', '2020-11-16',\n",
              "               '2020-11-17', '2020-11-18', '2020-11-19', '2020-11-20',\n",
              "               '2020-11-23', '2020-11-24'],\n",
              "              dtype='datetime64[ns]', name='Date', length=23337, freq=None)"
            ]
          },
          "metadata": {
            "tags": []
          },
          "execution_count": 6
        }
      ]
    },
    {
      "cell_type": "code",
      "metadata": {
        "colab": {
          "base_uri": "https://localhost:8080/"
        },
        "id": "sZH0Fa7Joxly",
        "outputId": "585aa2ba-0fdd-4274-e3a9-c92d7081f002"
      },
      "source": [
        "date_time.size\n",
        "a=np.arange(0,date_time.size*4,4)\n",
        "b=np.random.randint(1,3,size=(date_time.size))\n",
        "c = 3 - b\n",
        "b += a\n",
        "c += a\n",
        "d = a +3\n",
        "a,b,c,d\n"
      ],
      "execution_count": 9,
      "outputs": [
        {
          "output_type": "execute_result",
          "data": {
            "text/plain": [
              "(array([    0,     4,     8, ..., 93336, 93340, 93344]),\n",
              " array([    2,     5,    10, ..., 93337, 93342, 93346]),\n",
              " array([    1,     6,     9, ..., 93338, 93341, 93345]),\n",
              " array([    3,     7,    11, ..., 93339, 93343, 93347]))"
            ]
          },
          "metadata": {
            "tags": []
          },
          "execution_count": 9
        }
      ]
    },
    {
      "cell_type": "code",
      "metadata": {
        "id": "uTmAJrq6_2pf"
      },
      "source": [
        "df['Open']\n",
        "#pd.Series(df['Open'],index=a)\n",
        "df['io']=a\n",
        "df['ih']=b\n",
        "df['il']=c\n",
        "df['ic']=d\n",
        "df[['io','Open']].values\n",
        "kk=pd.DataFrame(data=df['Open'].values,index=df['io'].values,  columns=['val'] )\n",
        "kk=kk.append(pd.DataFrame(data=df['High'].values,index=df['ih'].values,  columns=['val'] ),sort=True)\n",
        "kk=kk.append(pd.DataFrame(data=df['Low'].values,index=df['il'].values, columns=['val'] ),sort=True)\n",
        "kk=kk.append(pd.DataFrame(data=df['Close'].values,index=df['ic'].values, columns=['val'] ),sort=True)"
      ],
      "execution_count": 10,
      "outputs": []
    },
    {
      "cell_type": "code",
      "metadata": {
        "colab": {
          "base_uri": "https://localhost:8080/",
          "height": 407
        },
        "id": "IBvQ68QS0TnV",
        "outputId": "cde499f0-0201-435b-ba3e-31415708cfb9"
      },
      "source": [
        "df\n",
        "kk"
      ],
      "execution_count": 11,
      "outputs": [
        {
          "output_type": "execute_result",
          "data": {
            "text/html": [
              "<div>\n",
              "<style scoped>\n",
              "    .dataframe tbody tr th:only-of-type {\n",
              "        vertical-align: middle;\n",
              "    }\n",
              "\n",
              "    .dataframe tbody tr th {\n",
              "        vertical-align: top;\n",
              "    }\n",
              "\n",
              "    .dataframe thead th {\n",
              "        text-align: right;\n",
              "    }\n",
              "</style>\n",
              "<table border=\"1\" class=\"dataframe\">\n",
              "  <thead>\n",
              "    <tr style=\"text-align: right;\">\n",
              "      <th></th>\n",
              "      <th>val</th>\n",
              "    </tr>\n",
              "  </thead>\n",
              "  <tbody>\n",
              "    <tr>\n",
              "      <th>0</th>\n",
              "      <td>4.142413</td>\n",
              "    </tr>\n",
              "    <tr>\n",
              "      <th>4</th>\n",
              "      <td>4.150560</td>\n",
              "    </tr>\n",
              "    <tr>\n",
              "      <th>8</th>\n",
              "      <td>4.147307</td>\n",
              "    </tr>\n",
              "    <tr>\n",
              "      <th>12</th>\n",
              "      <td>4.133399</td>\n",
              "    </tr>\n",
              "    <tr>\n",
              "      <th>16</th>\n",
              "      <td>4.142413</td>\n",
              "    </tr>\n",
              "    <tr>\n",
              "      <th>...</th>\n",
              "      <td>...</td>\n",
              "    </tr>\n",
              "    <tr>\n",
              "      <th>93331</th>\n",
              "      <td>11.800815</td>\n",
              "    </tr>\n",
              "    <tr>\n",
              "      <th>93335</th>\n",
              "      <td>11.806497</td>\n",
              "    </tr>\n",
              "    <tr>\n",
              "      <th>93339</th>\n",
              "      <td>11.796664</td>\n",
              "    </tr>\n",
              "    <tr>\n",
              "      <th>93343</th>\n",
              "      <td>11.804772</td>\n",
              "    </tr>\n",
              "    <tr>\n",
              "      <th>93347</th>\n",
              "      <td>11.826616</td>\n",
              "    </tr>\n",
              "  </tbody>\n",
              "</table>\n",
              "<p>93348 rows × 1 columns</p>\n",
              "</div>"
            ],
            "text/plain": [
              "             val\n",
              "0       4.142413\n",
              "4       4.150560\n",
              "8       4.147307\n",
              "12      4.133399\n",
              "16      4.142413\n",
              "...          ...\n",
              "93331  11.800815\n",
              "93335  11.806497\n",
              "93339  11.796664\n",
              "93343  11.804772\n",
              "93347  11.826616\n",
              "\n",
              "[93348 rows x 1 columns]"
            ]
          },
          "metadata": {
            "tags": []
          },
          "execution_count": 11
        }
      ]
    },
    {
      "cell_type": "code",
      "metadata": {
        "colab": {
          "base_uri": "https://localhost:8080/",
          "height": 407
        },
        "id": "DeGQjjZq1rgT",
        "outputId": "088d93a0-26c8-43f2-fd81-b6c6a563a04f"
      },
      "source": [
        "kk.sort_index(inplace=True)\n",
        "(kk*0).sort_index()\n",
        "kk"
      ],
      "execution_count": 12,
      "outputs": [
        {
          "output_type": "execute_result",
          "data": {
            "text/html": [
              "<div>\n",
              "<style scoped>\n",
              "    .dataframe tbody tr th:only-of-type {\n",
              "        vertical-align: middle;\n",
              "    }\n",
              "\n",
              "    .dataframe tbody tr th {\n",
              "        vertical-align: top;\n",
              "    }\n",
              "\n",
              "    .dataframe thead th {\n",
              "        text-align: right;\n",
              "    }\n",
              "</style>\n",
              "<table border=\"1\" class=\"dataframe\">\n",
              "  <thead>\n",
              "    <tr style=\"text-align: right;\">\n",
              "      <th></th>\n",
              "      <th>val</th>\n",
              "    </tr>\n",
              "  </thead>\n",
              "  <tbody>\n",
              "    <tr>\n",
              "      <th>0</th>\n",
              "      <td>4.142413</td>\n",
              "    </tr>\n",
              "    <tr>\n",
              "      <th>1</th>\n",
              "      <td>4.142413</td>\n",
              "    </tr>\n",
              "    <tr>\n",
              "      <th>2</th>\n",
              "      <td>4.142413</td>\n",
              "    </tr>\n",
              "    <tr>\n",
              "      <th>3</th>\n",
              "      <td>4.142413</td>\n",
              "    </tr>\n",
              "    <tr>\n",
              "      <th>4</th>\n",
              "      <td>4.150560</td>\n",
              "    </tr>\n",
              "    <tr>\n",
              "      <th>...</th>\n",
              "      <td>...</td>\n",
              "    </tr>\n",
              "    <tr>\n",
              "      <th>93343</th>\n",
              "      <td>11.804772</td>\n",
              "    </tr>\n",
              "    <tr>\n",
              "      <th>93344</th>\n",
              "      <td>11.811583</td>\n",
              "    </tr>\n",
              "    <tr>\n",
              "      <th>93345</th>\n",
              "      <td>11.811583</td>\n",
              "    </tr>\n",
              "    <tr>\n",
              "      <th>93346</th>\n",
              "      <td>11.830638</td>\n",
              "    </tr>\n",
              "    <tr>\n",
              "      <th>93347</th>\n",
              "      <td>11.826616</td>\n",
              "    </tr>\n",
              "  </tbody>\n",
              "</table>\n",
              "<p>93348 rows × 1 columns</p>\n",
              "</div>"
            ],
            "text/plain": [
              "             val\n",
              "0       4.142413\n",
              "1       4.142413\n",
              "2       4.142413\n",
              "3       4.142413\n",
              "4       4.150560\n",
              "...          ...\n",
              "93343  11.804772\n",
              "93344  11.811583\n",
              "93345  11.811583\n",
              "93346  11.830638\n",
              "93347  11.826616\n",
              "\n",
              "[93348 rows x 1 columns]"
            ]
          },
          "metadata": {
            "tags": []
          },
          "execution_count": 12
        }
      ]
    },
    {
      "cell_type": "code",
      "metadata": {
        "id": "jmBIvlQ8ukxu",
        "outputId": "7a5966ed-bc03-40e9-91d7-1b269ca6fd67",
        "colab": {
          "base_uri": "https://localhost:8080/",
          "height": 718
        }
      },
      "source": [
        "kk.plot(figsize=(24,12))"
      ],
      "execution_count": 15,
      "outputs": [
        {
          "output_type": "execute_result",
          "data": {
            "text/plain": [
              "<matplotlib.axes._subplots.AxesSubplot at 0x7f735011aeb8>"
            ]
          },
          "metadata": {
            "tags": []
          },
          "execution_count": 15
        },
        {
          "output_type": "display_data",
          "data": {
            "image/png": "[encoded data removed]",
            "text/plain": [
              "<Figure size 1728x864 with 1 Axes>"
            ]
          },
          "metadata": {
            "tags": [],
            "needs_background": "light"
          }
        }
      ]
    }
  ]
}