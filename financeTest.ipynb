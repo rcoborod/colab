{
  "nbformat": 4,
  "nbformat_minor": 0,
  "metadata": {
    "colab": {
      "name": "financeTest.ipynb",
      "provenance": [],
      "collapsed_sections": [],
      "include_colab_link": true
    },
    "kernelspec": {
      "name": "python3",
      "display_name": "Python 3"
    }
  },
  "cells": [
    {
      "cell_type": "markdown",
      "metadata": {
        "id": "view-in-github",
        "colab_type": "text"
      },
      "source": [
        "<a href=\"https://colab.research.google.com/github/rcoborod/colab/blob/master/financeTest.ipynb\" target=\"_parent\"><img src=\"https://colab.research.google.com/assets/colab-badge.svg\" alt=\"Open In Colab\"/></a>"
      ]
    },
    {
      "cell_type": "code",
      "metadata": {
        "id": "hVWYmp2xG5PL"
      },
      "source": [
        "import os\n",
        "import pathlib\n",
        "import datetime\n",
        "import IPython\n",
        "import IPython.display\n",
        "import matplotlib as mpl\n",
        "import matplotlib.pyplot as plt\n",
        "import numpy as np\n",
        "import pandas as pd\n",
        "import seaborn as sns\n",
        "import tensorflow as tf\n",
        "\n",
        "mpl.rcParams['figure.figsize'] = (8, 6)\n",
        "mpl.rcParams['axes.grid'] = True\n",
        "np.set_printoptions(precision=4)"
      ],
      "execution_count": 20,
      "outputs": []
    },
    {
      "cell_type": "code",
      "metadata": {
        "id": "kAHzqeuaG8Bz"
      },
      "source": [
        "!pip install yfinance\n",
        "import yfinance as yf"
      ],
      "execution_count": null,
      "outputs": []
    },
    {
      "cell_type": "code",
      "metadata": {
        "colab": {
          "base_uri": "https://localhost:8080/"
        },
        "id": "Xm9T5-wzLXIv",
        "outputId": "b783ee42-17f3-437d-c6ca-d4088bcd6071"
      },
      "source": [
        "data = yf.download(\"ADA-USD\",interval='1d',auto_adjust=True)"
      ],
      "execution_count": 21,
      "outputs": [
        {
          "output_type": "stream",
          "text": [
            "\r[*********************100%***********************]  1 of 1 completed\n"
          ],
          "name": "stdout"
        }
      ]
    },
    {
      "cell_type": "code",
      "metadata": {
        "id": "FyQn-0e7OnVt"
      },
      "source": [
        "\n",
        "df= data.drop(columns=['Volume']).apply(np.log2)"
      ],
      "execution_count": 22,
      "outputs": []
    },
    {
      "cell_type": "code",
      "metadata": {
        "colab": {
          "base_uri": "https://localhost:8080/"
        },
        "id": "pPYt46uSSE1s",
        "outputId": "57cceb52-cc94-458d-a89c-2583cc50bced"
      },
      "source": [
        "date_time=pd.to_datetime(df.index,infer_datetime_format=True)\n",
        "date_time"
      ],
      "execution_count": 23,
      "outputs": [
        {
          "output_type": "execute_result",
          "data": {
            "text/plain": [
              "DatetimeIndex(['2017-10-01', '2017-10-02', '2017-10-03', '2017-10-04',\n",
              "               '2017-10-05', '2017-10-06', '2017-10-07', '2017-10-08',\n",
              "               '2017-10-09', '2017-10-10',\n",
              "               ...\n",
              "               '2021-03-17', '2021-03-18', '2021-03-19', '2021-03-20',\n",
              "               '2021-03-21', '2021-03-22', '2021-03-23', '2021-03-24',\n",
              "               '2021-03-25', '2021-03-26'],\n",
              "              dtype='datetime64[ns]', name='Date', length=1269, freq=None)"
            ]
          },
          "metadata": {
            "tags": []
          },
          "execution_count": 23
        }
      ]
    },
    {
      "cell_type": "code",
      "metadata": {
        "colab": {
          "base_uri": "https://localhost:8080/"
        },
        "id": "sZH0Fa7Joxly",
        "outputId": "fec65f23-a3ca-49e6-f56f-e584c88631f7"
      },
      "source": [
        "date_time.size\n",
        "a=np.arange(0,date_time.size*4,4)\n",
        "b=np.random.randint(1,3,size=(date_time.size))\n",
        "c = 3 - b\n",
        "b += a\n",
        "c += a\n",
        "d = a +3\n",
        "a,b,c,d\n"
      ],
      "execution_count": 24,
      "outputs": [
        {
          "output_type": "execute_result",
          "data": {
            "text/plain": [
              "(array([   0,    4,    8, ..., 5064, 5068, 5072]),\n",
              " array([   2,    5,   10, ..., 5066, 5070, 5074]),\n",
              " array([   1,    6,    9, ..., 5065, 5069, 5073]),\n",
              " array([   3,    7,   11, ..., 5067, 5071, 5075]))"
            ]
          },
          "metadata": {
            "tags": []
          },
          "execution_count": 24
        }
      ]
    },
    {
      "cell_type": "code",
      "metadata": {
        "id": "uTmAJrq6_2pf"
      },
      "source": [
        "df['Open']\n",
        "#pd.Series(df['Open'],index=a)\n",
        "df['io']=a\n",
        "df['ih']=b\n",
        "df['il']=c\n",
        "df['ic']=d\n",
        "df[['io','Open']].values\n",
        "kk=pd.DataFrame(data=df['Open'].values,index=df['io'].values,  columns=['val'] )\n",
        "kk=kk.append(pd.DataFrame(data=df['High'].values,index=df['ih'].values,  columns=['val'] ),sort=True)\n",
        "kk=kk.append(pd.DataFrame(data=df['Low'].values,index=df['il'].values, columns=['val'] ),sort=True)\n",
        "kk=kk.append(pd.DataFrame(data=df['Close'].values,index=df['ic'].values, columns=['val'] ),sort=True)"
      ],
      "execution_count": 26,
      "outputs": []
    },
    {
      "cell_type": "code",
      "metadata": {
        "colab": {
          "base_uri": "https://localhost:8080/",
          "height": 407
        },
        "id": "IBvQ68QS0TnV",
        "outputId": "499de7d2-5c37-45c8-d70f-bf7441361bb4"
      },
      "source": [
        "df\n",
        "kk"
      ],
      "execution_count": 28,
      "outputs": [
        {
          "output_type": "execute_result",
          "data": {
            "text/html": [
              "<div>\n",
              "<style scoped>\n",
              "    .dataframe tbody tr th:only-of-type {\n",
              "        vertical-align: middle;\n",
              "    }\n",
              "\n",
              "    .dataframe tbody tr th {\n",
              "        vertical-align: top;\n",
              "    }\n",
              "\n",
              "    .dataframe thead th {\n",
              "        text-align: right;\n",
              "    }\n",
              "</style>\n",
              "<table border=\"1\" class=\"dataframe\">\n",
              "  <thead>\n",
              "    <tr style=\"text-align: right;\">\n",
              "      <th></th>\n",
              "      <th>val</th>\n",
              "    </tr>\n",
              "  </thead>\n",
              "  <tbody>\n",
              "    <tr>\n",
              "      <th>0</th>\n",
              "      <td>-5.527624</td>\n",
              "    </tr>\n",
              "    <tr>\n",
              "      <th>4</th>\n",
              "      <td>-5.344787</td>\n",
              "    </tr>\n",
              "    <tr>\n",
              "      <th>8</th>\n",
              "      <td>-5.278892</td>\n",
              "    </tr>\n",
              "    <tr>\n",
              "      <th>12</th>\n",
              "      <td>-5.582840</td>\n",
              "    </tr>\n",
              "    <tr>\n",
              "      <th>16</th>\n",
              "      <td>-5.509570</td>\n",
              "    </tr>\n",
              "    <tr>\n",
              "      <th>...</th>\n",
              "      <td>...</td>\n",
              "    </tr>\n",
              "    <tr>\n",
              "      <th>5059</th>\n",
              "      <td>0.150396</td>\n",
              "    </tr>\n",
              "    <tr>\n",
              "      <th>5063</th>\n",
              "      <td>0.165496</td>\n",
              "    </tr>\n",
              "    <tr>\n",
              "      <th>5067</th>\n",
              "      <td>0.104339</td>\n",
              "    </tr>\n",
              "    <tr>\n",
              "      <th>5071</th>\n",
              "      <td>0.139566</td>\n",
              "    </tr>\n",
              "    <tr>\n",
              "      <th>5075</th>\n",
              "      <td>0.280693</td>\n",
              "    </tr>\n",
              "  </tbody>\n",
              "</table>\n",
              "<p>5076 rows × 1 columns</p>\n",
              "</div>"
            ],
            "text/plain": [
              "           val\n",
              "0    -5.527624\n",
              "4    -5.344787\n",
              "8    -5.278892\n",
              "12   -5.582840\n",
              "16   -5.509570\n",
              "...        ...\n",
              "5059  0.150396\n",
              "5063  0.165496\n",
              "5067  0.104339\n",
              "5071  0.139566\n",
              "5075  0.280693\n",
              "\n",
              "[5076 rows x 1 columns]"
            ]
          },
          "metadata": {
            "tags": []
          },
          "execution_count": 28
        }
      ]
    },
    {
      "cell_type": "code",
      "metadata": {
        "colab": {
          "base_uri": "https://localhost:8080/",
          "height": 407
        },
        "id": "DeGQjjZq1rgT",
        "outputId": "8b9c006f-ca8c-48aa-e4ec-eb15e1992f35"
      },
      "source": [
        "kk.sort_index(inplace=True)\n",
        "(kk*0).sort_index()\n",
        "kk"
      ],
      "execution_count": 29,
      "outputs": [
        {
          "output_type": "execute_result",
          "data": {
            "text/html": [
              "<div>\n",
              "<style scoped>\n",
              "    .dataframe tbody tr th:only-of-type {\n",
              "        vertical-align: middle;\n",
              "    }\n",
              "\n",
              "    .dataframe tbody tr th {\n",
              "        vertical-align: top;\n",
              "    }\n",
              "\n",
              "    .dataframe thead th {\n",
              "        text-align: right;\n",
              "    }\n",
              "</style>\n",
              "<table border=\"1\" class=\"dataframe\">\n",
              "  <thead>\n",
              "    <tr style=\"text-align: right;\">\n",
              "      <th></th>\n",
              "      <th>val</th>\n",
              "    </tr>\n",
              "  </thead>\n",
              "  <tbody>\n",
              "    <tr>\n",
              "      <th>0</th>\n",
              "      <td>-5.527624</td>\n",
              "    </tr>\n",
              "    <tr>\n",
              "      <th>1</th>\n",
              "      <td>-5.848588</td>\n",
              "    </tr>\n",
              "    <tr>\n",
              "      <th>2</th>\n",
              "      <td>-4.955631</td>\n",
              "    </tr>\n",
              "    <tr>\n",
              "      <th>3</th>\n",
              "      <td>-5.323718</td>\n",
              "    </tr>\n",
              "    <tr>\n",
              "      <th>4</th>\n",
              "      <td>-5.344787</td>\n",
              "    </tr>\n",
              "    <tr>\n",
              "      <th>...</th>\n",
              "      <td>...</td>\n",
              "    </tr>\n",
              "    <tr>\n",
              "      <th>5071</th>\n",
              "      <td>0.139566</td>\n",
              "    </tr>\n",
              "    <tr>\n",
              "      <th>5072</th>\n",
              "      <td>0.151609</td>\n",
              "    </tr>\n",
              "    <tr>\n",
              "      <th>5073</th>\n",
              "      <td>0.142421</td>\n",
              "    </tr>\n",
              "    <tr>\n",
              "      <th>5074</th>\n",
              "      <td>0.349640</td>\n",
              "    </tr>\n",
              "    <tr>\n",
              "      <th>5075</th>\n",
              "      <td>0.280693</td>\n",
              "    </tr>\n",
              "  </tbody>\n",
              "</table>\n",
              "<p>5076 rows × 1 columns</p>\n",
              "</div>"
            ],
            "text/plain": [
              "           val\n",
              "0    -5.527624\n",
              "1    -5.848588\n",
              "2    -4.955631\n",
              "3    -5.323718\n",
              "4    -5.344787\n",
              "...        ...\n",
              "5071  0.139566\n",
              "5072  0.151609\n",
              "5073  0.142421\n",
              "5074  0.349640\n",
              "5075  0.280693\n",
              "\n",
              "[5076 rows x 1 columns]"
            ]
          },
          "metadata": {
            "tags": []
          },
          "execution_count": 29
        }
      ]
    },
    {
      "cell_type": "code",
      "metadata": {
        "id": "jmBIvlQ8ukxu",
        "colab": {
          "base_uri": "https://localhost:8080/",
          "height": 718
        },
        "outputId": "325d2ed4-9a3f-4f2b-9361-abe825a6c181"
      },
      "source": [
        "kk.plot(figsize=(24,12))"
      ],
      "execution_count": 30,
      "outputs": [
        {
          "output_type": "execute_result",
          "data": {
            "text/plain": [
              "<matplotlib.axes._subplots.AxesSubplot at 0x7f22b8481950>"
            ]
          },
          "metadata": {
            "tags": []
          },
          "execution_count": 30
        },
        {
          "output_type": "display_data",
          "data": {
            "image/png": "[encoded data removed]",
            "text/plain": [
              "<Figure size 1728x864 with 1 Axes>"
            ]
          },
          "metadata": {
            "tags": [],
            "needs_background": "light"
          }
        }
      ]
    },
    {
      "cell_type": "code",
      "metadata": {
        "colab": {
          "base_uri": "https://localhost:8080/",
          "height": 348
        },
        "id": "gfkvrtvWLx0D",
        "outputId": "5606b2cb-06a7-4fc0-c20b-90fadbb22a29"
      },
      "source": [
        "kk.shape[1]\n",
        "pd.concat([kk.head(10),kk.rolling(4).min().shift(-3).head(10),kk.rolling(4).max().shift(-3).head(10)],axis=1)"
      ],
      "execution_count": 59,
      "outputs": [
        {
          "output_type": "execute_result",
          "data": {
            "text/html": [
              "<div>\n",
              "<style scoped>\n",
              "    .dataframe tbody tr th:only-of-type {\n",
              "        vertical-align: middle;\n",
              "    }\n",
              "\n",
              "    .dataframe tbody tr th {\n",
              "        vertical-align: top;\n",
              "    }\n",
              "\n",
              "    .dataframe thead th {\n",
              "        text-align: right;\n",
              "    }\n",
              "</style>\n",
              "<table border=\"1\" class=\"dataframe\">\n",
              "  <thead>\n",
              "    <tr style=\"text-align: right;\">\n",
              "      <th></th>\n",
              "      <th>val</th>\n",
              "      <th>val</th>\n",
              "      <th>val</th>\n",
              "    </tr>\n",
              "  </thead>\n",
              "  <tbody>\n",
              "    <tr>\n",
              "      <th>0</th>\n",
              "      <td>-5.527624</td>\n",
              "      <td>-5.848588</td>\n",
              "      <td>-4.955631</td>\n",
              "    </tr>\n",
              "    <tr>\n",
              "      <th>1</th>\n",
              "      <td>-5.848588</td>\n",
              "      <td>-5.848588</td>\n",
              "      <td>-4.955631</td>\n",
              "    </tr>\n",
              "    <tr>\n",
              "      <th>2</th>\n",
              "      <td>-4.955631</td>\n",
              "      <td>-5.344787</td>\n",
              "      <td>-4.955631</td>\n",
              "    </tr>\n",
              "    <tr>\n",
              "      <th>3</th>\n",
              "      <td>-5.323718</td>\n",
              "      <td>-5.646094</td>\n",
              "      <td>-5.054668</td>\n",
              "    </tr>\n",
              "    <tr>\n",
              "      <th>4</th>\n",
              "      <td>-5.344787</td>\n",
              "      <td>-5.646094</td>\n",
              "      <td>-5.054668</td>\n",
              "    </tr>\n",
              "    <tr>\n",
              "      <th>5</th>\n",
              "      <td>-5.054668</td>\n",
              "      <td>-5.646094</td>\n",
              "      <td>-5.054668</td>\n",
              "    </tr>\n",
              "    <tr>\n",
              "      <th>6</th>\n",
              "      <td>-5.646094</td>\n",
              "      <td>-5.646094</td>\n",
              "      <td>-5.269123</td>\n",
              "    </tr>\n",
              "    <tr>\n",
              "      <th>7</th>\n",
              "      <td>-5.269123</td>\n",
              "      <td>-5.594923</td>\n",
              "      <td>-5.188365</td>\n",
              "    </tr>\n",
              "    <tr>\n",
              "      <th>8</th>\n",
              "      <td>-5.278892</td>\n",
              "      <td>-5.594923</td>\n",
              "      <td>-5.188365</td>\n",
              "    </tr>\n",
              "    <tr>\n",
              "      <th>9</th>\n",
              "      <td>-5.594923</td>\n",
              "      <td>-5.594923</td>\n",
              "      <td>-5.188365</td>\n",
              "    </tr>\n",
              "  </tbody>\n",
              "</table>\n",
              "</div>"
            ],
            "text/plain": [
              "        val       val       val\n",
              "0 -5.527624 -5.848588 -4.955631\n",
              "1 -5.848588 -5.848588 -4.955631\n",
              "2 -4.955631 -5.344787 -4.955631\n",
              "3 -5.323718 -5.646094 -5.054668\n",
              "4 -5.344787 -5.646094 -5.054668\n",
              "5 -5.054668 -5.646094 -5.054668\n",
              "6 -5.646094 -5.646094 -5.269123\n",
              "7 -5.269123 -5.594923 -5.188365\n",
              "8 -5.278892 -5.594923 -5.188365\n",
              "9 -5.594923 -5.594923 -5.188365"
            ]
          },
          "metadata": {
            "tags": []
          },
          "execution_count": 59
        }
      ]
    }
  ]
}